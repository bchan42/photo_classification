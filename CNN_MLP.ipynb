{
 "cells": [
  {
   "cell_type": "markdown",
   "metadata": {},
   "source": [
    "# CNN and MLP Ensembling\n",
    "\n",
    "- try CNN for images\n",
    "- try MLP for features"
   ]
  },
  {
   "cell_type": "markdown",
   "metadata": {},
   "source": [
    "## Preprocess Data"
   ]
  },
  {
   "cell_type": "code",
   "execution_count": 148,
   "metadata": {},
   "outputs": [],
   "source": [
    "import numpy as np\n",
    "import pandas as pd\n",
    "from sklearn.model_selection import train_test_split\n",
    "from sklearn.preprocessing import LabelEncoder\n",
    "from tensorflow.keras.models import Sequential\n",
    "from tensorflow.keras.layers import Conv2D, MaxPooling2D, Flatten, Dense, Dropout\n",
    "from tensorflow.keras.optimizers import Adam\n",
    "from tensorflow.keras.preprocessing.image import load_img, img_to_array"
   ]
  },
  {
   "cell_type": "code",
   "execution_count": 149,
   "metadata": {},
   "outputs": [
    {
     "name": "stdout",
     "output_type": "stream",
     "text": [
      "Image training set: (388,)\n",
      "Feature training set: (388, 18)\n",
      "Target training set: (388,)\n"
     ]
    }
   ],
   "source": [
    "import pandas as pd\n",
    "from sklearn.model_selection import train_test_split\n",
    "from sklearn.preprocessing import LabelEncoder\n",
    "\n",
    "# Load the dataset\n",
    "df = pd.read_csv(\"images.csv\")\n",
    "\n",
    "# Split into features for MLP and image paths for CNN\n",
    "image_paths = df['Path']\n",
    "features = df.drop(columns=['Path', 'Target', 'Image_Name']).values\n",
    "targets = df['Target'].values\n",
    "\n",
    "# Encode labels\n",
    "label_encoder = LabelEncoder()\n",
    "targets_encoded = label_encoder.fit_transform(targets)\n",
    "\n",
    "# Split the data\n",
    "X_train_img, X_test_img, X_train_feat, X_test_feat, y_train, y_test = train_test_split(\n",
    "    image_paths, features, targets_encoded, test_size=0.2, random_state=42\n",
    ")\n",
    "\n",
    "print(f\"Image training set: {X_train_img.shape}\")\n",
    "print(f\"Feature training set: {X_train_feat.shape}\")\n",
    "print(f\"Target training set: {y_train.shape}\")\n"
   ]
  },
  {
   "cell_type": "code",
   "execution_count": 150,
   "metadata": {},
   "outputs": [],
   "source": [
    "# import pandas as pd\n",
    "# from sklearn.model_selection import train_test_split\n",
    "# from sklearn.preprocessing import LabelEncoder\n",
    "\n",
    "# # Load the dataset\n",
    "# df = pd.read_csv(\"images.csv\")\n",
    "\n",
    "# # Separate image paths, features, and target\n",
    "# image_paths = df['Path']\n",
    "# features = df.drop(columns=['Path', 'Target', 'Image_Name']).values\n",
    "# targets = df['Target'].values\n",
    "\n",
    "# # Encode labels\n",
    "# label_encoder = LabelEncoder()\n",
    "# targets_encoded = label_encoder.fit_transform(targets)\n",
    "\n",
    "# # Combine image paths and features for aligned splitting\n",
    "# combined_data = pd.concat([image_paths, pd.DataFrame(features)], axis=1)\n",
    "\n",
    "# # Split the data while maintaining class balance\n",
    "# X_train_combined, X_test_combined, y_train, y_test = train_test_split(\n",
    "#     combined_data, targets_encoded, test_size=0.2, stratify=targets_encoded, random_state=42\n",
    "# )\n",
    "\n",
    "# # Separate back into image paths and features\n",
    "# X_train_img = X_train_combined['Path']\n",
    "# X_test_img = X_test_combined['Path']\n",
    "# X_train_feat = X_train_combined.iloc[:, 1:].values\n",
    "# X_test_feat = X_test_combined.iloc[:, 1:].values\n",
    "\n",
    "# # Print the shapes\n",
    "# print(f\"Image training set: {len(X_train_img)} samples\")\n",
    "# print(f\"Feature training set: {X_train_feat.shape}\")\n",
    "# print(f\"Target training set: {y_train.shape}\")\n"
   ]
  },
  {
   "cell_type": "markdown",
   "metadata": {},
   "source": [
    "## CNN Model"
   ]
  },
  {
   "cell_type": "code",
   "execution_count": 151,
   "metadata": {},
   "outputs": [
    {
     "name": "stdout",
     "output_type": "stream",
     "text": [
      "CNN Input Shape: (388, 128, 128, 3)\n"
     ]
    }
   ],
   "source": [
    "import numpy as np\n",
    "from tensorflow.keras.utils import img_to_array, load_img\n",
    "\n",
    "def preprocess_images(image_paths, target_size=(128, 128)):\n",
    "    images = []\n",
    "    for path in image_paths:\n",
    "        # Load and preprocess each image\n",
    "        image = load_img(path, target_size=target_size)\n",
    "        image = img_to_array(image) / 255.0  # Normalize\n",
    "        images.append(image)\n",
    "    return np.array(images)\n",
    "\n",
    "# Preprocess images\n",
    "X_train_cnn = preprocess_images(X_train_img)\n",
    "X_test_cnn = preprocess_images(X_test_img)\n",
    "\n",
    "print(f\"CNN Input Shape: {X_train_cnn.shape}\")"
   ]
  },
  {
   "cell_type": "code",
   "execution_count": 152,
   "metadata": {},
   "outputs": [
    {
     "name": "stdout",
     "output_type": "stream",
     "text": [
      "Epoch 1/5\n"
     ]
    },
    {
     "name": "stderr",
     "output_type": "stream",
     "text": [
      "/Library/Frameworks/Python.framework/Versions/3.12/lib/python3.12/site-packages/keras/src/layers/convolutional/base_conv.py:107: UserWarning: Do not pass an `input_shape`/`input_dim` argument to a layer. When using Sequential models, prefer using an `Input(shape)` object as the first layer in the model instead.\n",
      "  super().__init__(activity_regularizer=activity_regularizer, **kwargs)\n"
     ]
    },
    {
     "name": "stdout",
     "output_type": "stream",
     "text": [
      "\u001b[1m11/11\u001b[0m \u001b[32m━━━━━━━━━━━━━━━━━━━━\u001b[0m\u001b[37m\u001b[0m \u001b[1m3s\u001b[0m 182ms/step - accuracy: 0.5471 - loss: 0.8626 - val_accuracy: 0.6410 - val_loss: 0.6820\n",
      "Epoch 2/5\n",
      "\u001b[1m11/11\u001b[0m \u001b[32m━━━━━━━━━━━━━━━━━━━━\u001b[0m\u001b[37m\u001b[0m \u001b[1m2s\u001b[0m 156ms/step - accuracy: 0.5687 - loss: 0.6683 - val_accuracy: 0.5128 - val_loss: 0.6883\n",
      "Epoch 3/5\n",
      "\u001b[1m11/11\u001b[0m \u001b[32m━━━━━━━━━━━━━━━━━━━━\u001b[0m\u001b[37m\u001b[0m \u001b[1m2s\u001b[0m 181ms/step - accuracy: 0.6745 - loss: 0.6241 - val_accuracy: 0.5641 - val_loss: 0.6954\n",
      "Epoch 4/5\n",
      "\u001b[1m11/11\u001b[0m \u001b[32m━━━━━━━━━━━━━━━━━━━━\u001b[0m\u001b[37m\u001b[0m \u001b[1m2s\u001b[0m 147ms/step - accuracy: 0.6371 - loss: 0.6324 - val_accuracy: 0.5128 - val_loss: 0.6841\n",
      "Epoch 5/5\n",
      "\u001b[1m11/11\u001b[0m \u001b[32m━━━━━━━━━━━━━━━━━━━━\u001b[0m\u001b[37m\u001b[0m \u001b[1m2s\u001b[0m 144ms/step - accuracy: 0.6628 - loss: 0.6269 - val_accuracy: 0.6154 - val_loss: 0.6554\n",
      "\u001b[1m4/4\u001b[0m \u001b[32m━━━━━━━━━━━━━━━━━━━━\u001b[0m\u001b[37m\u001b[0m \u001b[1m0s\u001b[0m 33ms/step\n"
     ]
    }
   ],
   "source": [
    "from tensorflow.keras.models import Sequential\n",
    "from tensorflow.keras.layers import Conv2D, MaxPooling2D, Flatten, Dense, Dropout\n",
    "from tensorflow.keras.optimizers import Adam\n",
    "\n",
    "# Define CNN model with updated hyperparameters\n",
    "cnn_model = Sequential([\n",
    "    Conv2D(32, (3, 3), activation='relu', input_shape=(128, 128, 3)),\n",
    "    MaxPooling2D(pool_size=(2, 2)),\n",
    "    Conv2D(64, (3, 3), activation='relu'),\n",
    "    MaxPooling2D(pool_size=(2, 2)),\n",
    "    Flatten(),\n",
    "    Dense(128, activation='relu'),\n",
    "    Dropout(0.3),  # Dropout rate set to 0.3 as per best parameters\n",
    "    Dense(1, activation='sigmoid')  # Binary classification\n",
    "])\n",
    "\n",
    "# Compile the model with updated learning rate\n",
    "cnn_model.compile(optimizer=Adam(learning_rate=0.0001), loss='binary_crossentropy', metrics=['accuracy'])\n",
    "\n",
    "# Train the model with updated epochs and batch size\n",
    "cnn_model.fit(X_train_cnn, y_train, epochs=5, batch_size=32, validation_split=0.1)\n",
    "\n",
    "# CNN Predictions\n",
    "cnn_predictions = cnn_model.predict(X_test_cnn).flatten()"
   ]
  },
  {
   "cell_type": "code",
   "execution_count": 153,
   "metadata": {},
   "outputs": [
    {
     "name": "stdout",
     "output_type": "stream",
     "text": [
      "CNN Test Accuracy: 0.6186\n"
     ]
    }
   ],
   "source": [
    "from sklearn.metrics import accuracy_score\n",
    "\n",
    "cnn_predictions_binary = (cnn_predictions > 0.5).astype(int) # convert to 0 or 1\n",
    "cnn_accuracy = accuracy_score(y_test, cnn_predictions_binary)\n",
    "print(f\"CNN Test Accuracy: {cnn_accuracy:.4f}\")"
   ]
  },
  {
   "cell_type": "markdown",
   "metadata": {},
   "source": [
    "## MLP Model"
   ]
  },
  {
   "cell_type": "code",
   "execution_count": 154,
   "metadata": {},
   "outputs": [],
   "source": [
    "from sklearn.neural_network import MLPClassifier\n",
    "from sklearn.metrics import accuracy_score\n",
    "from sklearn.model_selection import train_test_split"
   ]
  },
  {
   "cell_type": "code",
   "execution_count": 155,
   "metadata": {},
   "outputs": [],
   "source": [
    "from sklearn.pipeline import Pipeline\n",
    "from sklearn.preprocessing import StandardScaler\n",
    "from sklearn.neural_network import MLPClassifier\n",
    "\n",
    "# Define the pipeline with the best parameters from GridSearchCV\n",
    "mlp_model = Pipeline([\n",
    "    ('scaler', StandardScaler()),  # Step 1: Scale features\n",
    "    ('mlp', MLPClassifier(\n",
    "        activation='tanh',  # Best activation function\n",
    "        alpha=0.0001,       # Best alpha (regularization strength)\n",
    "        hidden_layer_sizes=(100, 50),  # Best hidden layer sizes\n",
    "        learning_rate_init=0.01,  # Best learning rate\n",
    "        solver='adam',           # Best solver\n",
    "        max_iter=500,            # Best number of iterations\n",
    "        random_state=42\n",
    "    ))  # Step 2: Train MLP\n",
    "])\n",
    "\n",
    "# Fit the pipeline on the training data\n",
    "mlp_model.fit(X_train_feat, y_train)\n",
    "\n",
    "# Predict on the test set\n",
    "mlp_predictions = mlp_model.predict(X_test_feat)\n",
    "\n",
    "# Optionally, print the accuracy or other metrics\n",
    "# test_accuracy = pipeline.score(X_test_feat, y_test)\n",
    "# print(f\"Test Accuracy: {test_accuracy:.4f}\")\n"
   ]
  },
  {
   "cell_type": "code",
   "execution_count": 156,
   "metadata": {},
   "outputs": [],
   "source": [
    "# from sklearn.pipeline import Pipeline\n",
    "# from sklearn.preprocessing import StandardScaler\n",
    "# from sklearn.neural_network import MLPClassifier\n",
    "\n",
    "# # Define the pipeline\n",
    "# pipeline = Pipeline([\n",
    "#     ('scaler', StandardScaler()),  # Step 1: Scale features\n",
    "#     ('mlp', MLPClassifier(\n",
    "#         activation='relu',\n",
    "#         alpha=0.001,\n",
    "#         hidden_layer_sizes=(50, 30),\n",
    "#         learning_rate_init=0.01,\n",
    "#         solver='adam',\n",
    "#         max_iter=1000,\n",
    "#         random_state=42\n",
    "#     ))  # Step 2: Train MLP\n",
    "# ])\n",
    "\n",
    "# # Fit the pipeline on the training data\n",
    "# pipeline.fit(X_train_feat, y_train)\n",
    "\n",
    "# # Predict on the test set\n",
    "# mlp_predictions = pipeline.predict(X_test_feat)"
   ]
  },
  {
   "cell_type": "code",
   "execution_count": 157,
   "metadata": {},
   "outputs": [],
   "source": [
    "# from sklearn.neural_network import MLPClassifier\n",
    "# from sklearn.preprocessing import StandardScaler\n",
    "\n",
    "# # Standardize features\n",
    "# scaler = StandardScaler()\n",
    "# X_train_feat_scaled = scaler.fit_transform(X_train_feat)\n",
    "# X_test_feat_scaled = scaler.transform(X_test_feat)\n",
    "\n",
    "# # Define MLP model with best features\n",
    "# mlp_model = MLPClassifier(\n",
    "#     activation='relu', \n",
    "#     alpha=0.001, \n",
    "#     hidden_layer_sizes=(50, 30), \n",
    "#     learning_rate_init=0.01, \n",
    "#     solver='adam', \n",
    "#     max_iter=1000, \n",
    "#     random_state=42\n",
    "# ) \n",
    "# mlp_model.fit(X_train_feat_scaled, y_train)\n",
    "\n",
    "# # MLP Predictions (probabilities)\n",
    "# mlp_predictions = mlp_model.predict_proba(X_test_feat_scaled)[:, 1]\n"
   ]
  },
  {
   "cell_type": "code",
   "execution_count": 158,
   "metadata": {},
   "outputs": [
    {
     "name": "stdout",
     "output_type": "stream",
     "text": [
      "MLP Test Accuracy: 1.0000\n"
     ]
    }
   ],
   "source": [
    "from sklearn.metrics import accuracy_score\n",
    "\n",
    "# Get probabilities for the positive class (class 1)\n",
    "mlp_predictions_proba = mlp_model.predict_proba(X_test_feat)[:, 1]\n",
    "\n",
    "# Convert probabilities to binary class predictions using threshold (0.5)\n",
    "mlp_predictions = (mlp_predictions_proba >= 0.5).astype(int)\n",
    "\n",
    "# Calculate accuracy\n",
    "mlp_accuracy = accuracy_score(y_test, mlp_predictions)\n",
    "print(f\"MLP Test Accuracy: {mlp_accuracy:.4f}\")\n"
   ]
  },
  {
   "cell_type": "markdown",
   "metadata": {},
   "source": [
    "## Ensembling Part?"
   ]
  },
  {
   "cell_type": "code",
   "execution_count": 159,
   "metadata": {},
   "outputs": [
    {
     "name": "stdout",
     "output_type": "stream",
     "text": [
      "Ensemble Accuracy: 1.0000\n"
     ]
    }
   ],
   "source": [
    "from sklearn.metrics import accuracy_score\n",
    "\n",
    "# Simple Averaging for ensemble predictions\n",
    "weights = [0.5, 0.5]  # Equal weights for CNN and MLP\n",
    "combined_predictions = (weights[0] * cnn_predictions) + (weights[1] * mlp_predictions)\n",
    "final_predictions = (combined_predictions > 0.5).astype(int)\n",
    "\n",
    "# Evaluate the ensemble model's accuracy\n",
    "ensemble_accuracy = accuracy_score(y_test, final_predictions)\n",
    "print(f\"Ensemble Accuracy: {ensemble_accuracy:.4f}\")\n"
   ]
  },
  {
   "cell_type": "code",
   "execution_count": 160,
   "metadata": {},
   "outputs": [
    {
     "name": "stdout",
     "output_type": "stream",
     "text": [
      "\u001b[1m4/4\u001b[0m \u001b[32m━━━━━━━━━━━━━━━━━━━━\u001b[0m\u001b[37m\u001b[0m \u001b[1m0s\u001b[0m 42ms/step\n",
      "Ensemble Test Accuracy: 1.0000\n"
     ]
    }
   ],
   "source": [
    "# from sklearn.metrics import accuracy_score\n",
    "\n",
    "# # CNN predictions\n",
    "# cnn_predictions = cnn_model.predict(X_test_cnn)  # CNN outputs probabilities\n",
    "# cnn_predictions = cnn_predictions.flatten()  # Ensure the shape is 1D\n",
    "\n",
    "# # MLP predictions\n",
    "# mlp_predictions = mlp_model.predict_proba(X_test_feat)[:, 1]  # Probabilities for class 1\n",
    "\n",
    "# # Combine predictions: weighted average (more on mlp?)\n",
    "# cnn_weight = 0.4\n",
    "# mlp_weight = 0.6\n",
    "# combined_predictions = (cnn_weight * cnn_predictions) + (mlp_weight * mlp_predictions)\n",
    "\n",
    "# # Step 4: threshold combined predictions to get final binary class\n",
    "# final_predictions = (combined_predictions > 0.5).astype(int)\n",
    "\n",
    "# # Step 5: Evaluate ensemble performance\n",
    "# accuracy = accuracy_score(y_test, final_predictions)\n",
    "# print(f\"Ensemble Test Accuracy: {accuracy:.4f}\")"
   ]
  },
  {
   "cell_type": "code",
   "execution_count": 161,
   "metadata": {},
   "outputs": [
    {
     "name": "stdout",
     "output_type": "stream",
     "text": [
      "Best Weights: CNN=0.0, MLP=1.0\n",
      "Best Ensemble Accuracy: 1.0000\n"
     ]
    }
   ],
   "source": [
    "import numpy as np\n",
    "from sklearn.metrics import accuracy_score\n",
    "\n",
    "# Define a grid of weights\n",
    "weights = np.linspace(0, 1, 21)  # 21 values from 0.0 to 1.0\n",
    "\n",
    "best_accuracy = 0\n",
    "best_weights = (0.5, 0.5)  # Default to equal weights\n",
    "\n",
    "for cnn_weight in weights:\n",
    "    mlp_weight = 1 - cnn_weight  # Ensure weights sum to 1\n",
    "    combined_predictions = (cnn_weight * cnn_predictions) + (mlp_weight * mlp_predictions)\n",
    "    final_predictions = (combined_predictions > 0.5).astype(int)\n",
    "    accuracy = accuracy_score(y_test, final_predictions)\n",
    "    \n",
    "    if accuracy > best_accuracy:\n",
    "        best_accuracy = accuracy\n",
    "        best_weights = (cnn_weight, mlp_weight)\n",
    "\n",
    "print(f\"Best Weights: CNN={best_weights[0]}, MLP={best_weights[1]}\")\n",
    "print(f\"Best Ensemble Accuracy: {best_accuracy:.4f}\")\n"
   ]
  },
  {
   "cell_type": "code",
   "execution_count": 162,
   "metadata": {},
   "outputs": [
    {
     "name": "stdout",
     "output_type": "stream",
     "text": [
      "Best Weights from Cross-Validation: CNN=0.0, MLP=1.0\n",
      "Best Cross-Validated Accuracy: 1.0000\n"
     ]
    }
   ],
   "source": [
    "from sklearn.model_selection import StratifiedKFold\n",
    "from sklearn.metrics import accuracy_score\n",
    "import numpy as np\n",
    "\n",
    "# Assuming cnn_predictions and mlp_predictions are the predicted probabilities (not raw predictions)\n",
    "\n",
    "kf = StratifiedKFold(n_splits=5, shuffle=True, random_state=42)\n",
    "best_accuracy = 0\n",
    "best_weights = (0.5, 0.5)\n",
    "\n",
    "# List of weights to iterate over\n",
    "weights = np.linspace(0, 1, num=11)  # Example weights: [0.0, 0.1, ..., 1.0]\n",
    "\n",
    "for cnn_weight in weights:\n",
    "    mlp_weight = 1 - cnn_weight\n",
    "    fold_accuracies = []\n",
    "    \n",
    "    for train_index, test_index in kf.split(cnn_predictions, y_test):  # Pass features and labels\n",
    "        # Create train/test splits for cross-validation\n",
    "        cnn_train, cnn_test = cnn_predictions[train_index], cnn_predictions[test_index]\n",
    "        mlp_train, mlp_test = mlp_predictions[train_index], mlp_predictions[test_index]\n",
    "        y_train_fold, y_test_fold = y_test[train_index], y_test[test_index]\n",
    "        \n",
    "        # Combine predictions for the fold\n",
    "        combined_test = (cnn_weight * cnn_test) + (mlp_weight * mlp_test)\n",
    "        final_test = (combined_test > 0.5).astype(int)  # Convert probabilities to binary predictions\n",
    "        fold_accuracy = accuracy_score(y_test_fold, final_test)\n",
    "        fold_accuracies.append(fold_accuracy)\n",
    "    \n",
    "    # Average accuracy across folds\n",
    "    mean_accuracy = np.mean(fold_accuracies)\n",
    "    if mean_accuracy > best_accuracy:\n",
    "        best_accuracy = mean_accuracy\n",
    "        best_weights = (cnn_weight, mlp_weight)\n",
    "\n",
    "print(f\"Best Weights from Cross-Validation: CNN={best_weights[0]}, MLP={best_weights[1]}\")\n",
    "print(f\"Best Cross-Validated Accuracy: {best_accuracy:.4f}\")\n"
   ]
  },
  {
   "cell_type": "code",
   "execution_count": 163,
   "metadata": {},
   "outputs": [
    {
     "name": "stdout",
     "output_type": "stream",
     "text": [
      "Best Parameters: {'C': 0.1, 'solver': 'liblinear'}\n",
      "Best Meta-Model Accuracy: 1.0000\n"
     ]
    }
   ],
   "source": [
    "from sklearn.model_selection import GridSearchCV\n",
    "from sklearn.linear_model import LogisticRegression\n",
    "\n",
    "# Prepare meta-model features\n",
    "meta_features = np.column_stack((cnn_predictions, mlp_predictions))\n",
    "\n",
    "# Define hyperparameter grid\n",
    "param_grid = {\n",
    "    'C': [0.01, 0.1, 1, 10, 100],  # Regularization strength\n",
    "    'solver': ['liblinear', 'lbfgs']\n",
    "}\n",
    "\n",
    "# Perform grid search\n",
    "meta_model = LogisticRegression(random_state=42)\n",
    "# grid_search = GridSearchCV(meta_model, param_grid, cv=5, scoring='accuracy')\n",
    "# grid_search.fit(meta_features, y_test)\n",
    "\n",
    "from sklearn.model_selection import GridSearchCV\n",
    "\n",
    "grid_search = GridSearchCV(meta_model, param_grid, cv=StratifiedKFold(n_splits=5), scoring='accuracy')\n",
    "grid_search.fit(meta_features, y_test)\n",
    "\n",
    "\n",
    "print(f\"Best Parameters: {grid_search.best_params_}\")\n",
    "print(f\"Best Meta-Model Accuracy: {grid_search.best_score_:.4f}\")\n"
   ]
  },
  {
   "cell_type": "code",
   "execution_count": 167,
   "metadata": {},
   "outputs": [
    {
     "name": "stdout",
     "output_type": "stream",
     "text": [
      "Ensemble Accuracy: 1.0000\n",
      "Precision: 1.0000\n",
      "Recall: 1.0000\n",
      "F1-Score: 1.0000\n",
      "Confusion Matrix:\n",
      "[[51  0]\n",
      " [ 0 46]]\n"
     ]
    }
   ],
   "source": [
    "from sklearn.metrics import precision_score, recall_score, f1_score, confusion_matrix, accuracy_score\n",
    "\n",
    "# Simple Averaging for ensemble predictions\n",
    "weights = [0.5, 0.5]  # Equal weights for CNN and MLP\n",
    "combined_predictions = (weights[0] * cnn_predictions) + (weights[1] * mlp_predictions)\n",
    "final_predictions = (combined_predictions > 0.5).astype(int)\n",
    "\n",
    "# Evaluate the ensemble model's accuracy\n",
    "ensemble_accuracy = accuracy_score(y_test, final_predictions)\n",
    "print(f\"Ensemble Accuracy: {ensemble_accuracy:.4f}\")\n",
    "\n",
    "# Calculate Precision, Recall, and F1-Score\n",
    "precision = precision_score(y_test, final_predictions, average='binary')  # 'binary' for binary classification\n",
    "recall = recall_score(y_test, final_predictions, average='binary')\n",
    "f1 = f1_score(y_test, final_predictions, average='binary')\n",
    "\n",
    "# Print the metrics\n",
    "print(f\"Precision: {precision:.4f}\")\n",
    "print(f\"Recall: {recall:.4f}\")\n",
    "print(f\"F1-Score: {f1:.4f}\")\n",
    "\n",
    "# Confusion Matrix\n",
    "cm = confusion_matrix(y_test, final_predictions)\n",
    "print(\"Confusion Matrix:\")\n",
    "print(cm)\n"
   ]
  }
 ],
 "metadata": {
  "kernelspec": {
   "display_name": "Python 3",
   "language": "python",
   "name": "python3"
  },
  "language_info": {
   "codemirror_mode": {
    "name": "ipython",
    "version": 3
   },
   "file_extension": ".py",
   "mimetype": "text/x-python",
   "name": "python",
   "nbconvert_exporter": "python",
   "pygments_lexer": "ipython3",
   "version": "3.12.2"
  }
 },
 "nbformat": 4,
 "nbformat_minor": 2
}
