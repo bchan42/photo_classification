{
 "cells": [
  {
   "cell_type": "markdown",
   "metadata": {},
   "source": [
    "# Data Preparation\n"
   ]
  },
  {
   "cell_type": "code",
   "execution_count": 57,
   "metadata": {},
   "outputs": [],
   "source": [
    "import os\n",
    "import pandas as pd"
   ]
  },
  {
   "cell_type": "code",
   "execution_count": 58,
   "metadata": {},
   "outputs": [],
   "source": [
    "labels = ['Alex', 'Kelly']\n",
    "\n",
    "def create_labeled_df(main_directory=\"datasets\"):\n",
    "        file_paths = []\n",
    "        target_variable = []\n",
    "\n",
    "        for directory in os.listdir(main_directory):\n",
    "            full_path = os.path.join(main_directory, directory)\n",
    "\n",
    "            if directory not in labels:\n",
    "                continue\n",
    "\n",
    "            for path in os.listdir(full_path):\n",
    "                image_path = os.path.join(full_path, path)\n",
    "                if os.path.isfile(image_path):\n",
    "                     target_variable.append(directory)\n",
    "                     file_paths.append(image_path)\n",
    "\n",
    "\n",
    "        df = pd.DataFrame({\n",
    "            \"Target\": target_variable,\n",
    "            \"Path\": file_paths\n",
    "        })\n",
    "\n",
    "        csv_filename = \"images_train.csv\"\n",
    "        df.to_csv(csv_filename, index=False)\n",
    "        return df\n"
   ]
  },
  {
   "cell_type": "code",
   "execution_count": 59,
   "metadata": {},
   "outputs": [],
   "source": [
    "labels = ['TestSet01', 'TestSet02']\n",
    "\n",
    "def create_test_df(main_directory=\"datasets\"):\n",
    "        file_paths = []\n",
    "\n",
    "        for directory in os.listdir(main_directory):\n",
    "            full_path = os.path.join(main_directory, directory)\n",
    "\n",
    "            if directory not in labels:\n",
    "                continue\n",
    "\n",
    "            for path in os.listdir(full_path):\n",
    "                image_path = os.path.join(full_path, path)\n",
    "                if os.path.isfile(image_path):\n",
    "                     file_paths.append(image_path)\n",
    "\n",
    "\n",
    "        df = pd.DataFrame({\n",
    "            \"Path\": file_paths\n",
    "        })\n",
    "\n",
    "        csv_filename = \"images_test.csv\"\n",
    "        df.to_csv(csv_filename, index=False)\n"
   ]
  },
  {
   "cell_type": "code",
   "execution_count": 60,
   "metadata": {},
   "outputs": [],
   "source": [
    "create_labeled_df()\n",
    "create_test_df()\n"
   ]
  },
  {
   "cell_type": "markdown",
   "metadata": {},
   "source": [
    "# Creating Train-Test Splits"
   ]
  },
  {
   "cell_type": "code",
   "execution_count": 61,
   "metadata": {},
   "outputs": [
    {
     "data": {
      "text/html": [
       "<div>\n",
       "<style scoped>\n",
       "    .dataframe tbody tr th:only-of-type {\n",
       "        vertical-align: middle;\n",
       "    }\n",
       "\n",
       "    .dataframe tbody tr th {\n",
       "        vertical-align: top;\n",
       "    }\n",
       "\n",
       "    .dataframe thead th {\n",
       "        text-align: right;\n",
       "    }\n",
       "</style>\n",
       "<table border=\"1\" class=\"dataframe\">\n",
       "  <thead>\n",
       "    <tr style=\"text-align: right;\">\n",
       "      <th></th>\n",
       "      <th>Path</th>\n",
       "      <th>Target</th>\n",
       "    </tr>\n",
       "  </thead>\n",
       "  <tbody>\n",
       "    <tr>\n",
       "      <th>0</th>\n",
       "      <td>datasets/Alex/Alex-Image119.png</td>\n",
       "      <td>Alex</td>\n",
       "    </tr>\n",
       "    <tr>\n",
       "      <th>1</th>\n",
       "      <td>datasets/Alex/Alex-Image131.png</td>\n",
       "      <td>Alex</td>\n",
       "    </tr>\n",
       "    <tr>\n",
       "      <th>2</th>\n",
       "      <td>datasets/Alex/Alex-Image125.png</td>\n",
       "      <td>Alex</td>\n",
       "    </tr>\n",
       "    <tr>\n",
       "      <th>3</th>\n",
       "      <td>datasets/Alex/Alex-Image247.png</td>\n",
       "      <td>Alex</td>\n",
       "    </tr>\n",
       "    <tr>\n",
       "      <th>4</th>\n",
       "      <td>datasets/Alex/Alex-Image27.png</td>\n",
       "      <td>Alex</td>\n",
       "    </tr>\n",
       "  </tbody>\n",
       "</table>\n",
       "</div>"
      ],
      "text/plain": [
       "                              Path Target\n",
       "0  datasets/Alex/Alex-Image119.png   Alex\n",
       "1  datasets/Alex/Alex-Image131.png   Alex\n",
       "2  datasets/Alex/Alex-Image125.png   Alex\n",
       "3  datasets/Alex/Alex-Image247.png   Alex\n",
       "4   datasets/Alex/Alex-Image27.png   Alex"
      ]
     },
     "execution_count": 61,
     "metadata": {},
     "output_type": "execute_result"
    }
   ],
   "source": [
    "labels = ['Alex', 'Kelly']\n",
    "\n",
    "def create_labeled_df(main_directory=\"datasets\"):\n",
    "    file_paths = []\n",
    "    target_variable = []\n",
    "\n",
    "    for directory in os.listdir(main_directory):\n",
    "        full_path = os.path.join(main_directory, directory)\n",
    "\n",
    "        if directory not in labels:\n",
    "            # print(f\"Skipping directory: {directory}\")  # Debugging\n",
    "            continue\n",
    "\n",
    "        # print(f\"Processing directory: {directory}\")  # Debugging\n",
    "        for path in os.listdir(full_path):\n",
    "            image_path = os.path.join(full_path, path)\n",
    "            if os.path.isfile(image_path):\n",
    "                # print(f\"Adding file: {image_path}\")  # Debugging\n",
    "                target_variable.append(directory)\n",
    "                file_paths.append(image_path)\n",
    "\n",
    "    df = pd.DataFrame({\n",
    "        \"Path\": file_paths,\n",
    "        \"Target\": target_variable\n",
    "    })\n",
    "\n",
    "    csv_filename = \"labelled_images.csv\"\n",
    "    # print(f\"Saving CSV to: {csv_filename}\")  # Debugging\n",
    "    df.to_csv(csv_filename, index=False)\n",
    "    return df\n",
    "\n",
    "labelled_df = create_labeled_df() # call function\n",
    "labelled_df.head()\n"
   ]
  },
  {
   "cell_type": "code",
   "execution_count": 62,
   "metadata": {},
   "outputs": [
    {
     "data": {
      "text/html": [
       "<div>\n",
       "<style scoped>\n",
       "    .dataframe tbody tr th:only-of-type {\n",
       "        vertical-align: middle;\n",
       "    }\n",
       "\n",
       "    .dataframe tbody tr th {\n",
       "        vertical-align: top;\n",
       "    }\n",
       "\n",
       "    .dataframe thead th {\n",
       "        text-align: right;\n",
       "    }\n",
       "</style>\n",
       "<table border=\"1\" class=\"dataframe\">\n",
       "  <thead>\n",
       "    <tr style=\"text-align: right;\">\n",
       "      <th></th>\n",
       "      <th>Path</th>\n",
       "    </tr>\n",
       "  </thead>\n",
       "  <tbody>\n",
       "    <tr>\n",
       "      <th>0</th>\n",
       "      <td>datasets/TestSet02/TestSet02-Image06.png</td>\n",
       "    </tr>\n",
       "    <tr>\n",
       "      <th>1</th>\n",
       "      <td>datasets/TestSet02/TestSet02-Image12.png</td>\n",
       "    </tr>\n",
       "    <tr>\n",
       "      <th>2</th>\n",
       "      <td>datasets/TestSet02/TestSet02-Image13.png</td>\n",
       "    </tr>\n",
       "    <tr>\n",
       "      <th>3</th>\n",
       "      <td>datasets/TestSet02/TestSet02-Image07.png</td>\n",
       "    </tr>\n",
       "    <tr>\n",
       "      <th>4</th>\n",
       "      <td>datasets/TestSet02/TestSet02-Image11.png</td>\n",
       "    </tr>\n",
       "  </tbody>\n",
       "</table>\n",
       "</div>"
      ],
      "text/plain": [
       "                                       Path\n",
       "0  datasets/TestSet02/TestSet02-Image06.png\n",
       "1  datasets/TestSet02/TestSet02-Image12.png\n",
       "2  datasets/TestSet02/TestSet02-Image13.png\n",
       "3  datasets/TestSet02/TestSet02-Image07.png\n",
       "4  datasets/TestSet02/TestSet02-Image11.png"
      ]
     },
     "execution_count": 62,
     "metadata": {},
     "output_type": "execute_result"
    }
   ],
   "source": [
    "labels = ['TestSet01', 'TestSet02']\n",
    "\n",
    "def create_unlabelled_df(main_directory=\"datasets\"):\n",
    "        file_paths = []\n",
    "\n",
    "        for directory in os.listdir(main_directory):\n",
    "            full_path = os.path.join(main_directory, directory)\n",
    "\n",
    "            if directory not in labels:\n",
    "                continue\n",
    "\n",
    "            for path in os.listdir(full_path):\n",
    "                image_path = os.path.join(full_path, path)\n",
    "                if os.path.isfile(image_path):\n",
    "                     file_paths.append(image_path)\n",
    "\n",
    "\n",
    "        df = pd.DataFrame({\n",
    "            \"Path\": file_paths\n",
    "        })\n",
    "\n",
    "        csv_filename = \"unlabelled_images.csv\"\n",
    "        df.to_csv(csv_filename, index=False)\n",
    "        return df\n",
    "\n",
    "unlabelled_df = create_unlabelled_df()\n",
    "unlabelled_df.head()"
   ]
  },
  {
   "cell_type": "code",
   "execution_count": null,
   "metadata": {},
   "outputs": [],
   "source": [
    "# READ IN CSV'S\n",
    "# labelled_df = pd.read_csv('labelled_images.csv') # path & target\n",
    "# features = pd.read_csv('features_csv') # image name & features\n",
    "\n",
    "\n",
    "# CLEAN features df??"
   ]
  },
  {
   "cell_type": "code",
   "execution_count": null,
   "metadata": {},
   "outputs": [],
   "source": [
    "# MERGE DF'S\n",
    "# labelled_df['image_name'] = labelled_df['Path'].apply(lambda x: x.split(\"/\")[-1]) # extract img names from path\n",
    "# images_df = pd.merge(labelled_df, features, on='image_name', how='inner')\n",
    "# images_df.drop(columns=['image_name'], inplace=True) # actually maybe keep img name so can ref later?\n",
    "\n",
    "# SAVE FULL DATASET AS CSV\n",
    "# images_df.to_csv('images.csv')"
   ]
  },
  {
   "cell_type": "code",
   "execution_count": null,
   "metadata": {},
   "outputs": [],
   "source": [
    "from sklearn.model_selection import train_test_split\n",
    "\n",
    "# images_df = pd.read_csv('images_csv')\n",
    "# images_train, images_test = train_test_split(images_df, test_size=0.2, random_state=42)\n",
    "\n",
    "# images_train.to_csv('images_train.csv', index=False)\n",
    "# images_test.to_csv('images_test.csv', index=False)"
   ]
  }
 ],
 "metadata": {
  "kernelspec": {
   "display_name": "Python 3",
   "language": "python",
   "name": "python3"
  },
  "language_info": {
   "codemirror_mode": {
    "name": "ipython",
    "version": 3
   },
   "file_extension": ".py",
   "mimetype": "text/x-python",
   "name": "python",
   "nbconvert_exporter": "python",
   "pygments_lexer": "ipython3",
   "version": "3.12.2"
  }
 },
 "nbformat": 4,
 "nbformat_minor": 2
}
