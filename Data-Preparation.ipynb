{
 "cells": [
  {
   "cell_type": "markdown",
   "metadata": {},
   "source": [
    "# Data Preparation\n"
   ]
  },
  {
   "cell_type": "code",
   "execution_count": 45,
   "metadata": {},
   "outputs": [],
   "source": [
    "import os\n",
    "import pandas as pd"
   ]
  },
  {
   "cell_type": "code",
   "execution_count": 46,
   "metadata": {},
   "outputs": [],
   "source": [
    "labels = ['Alex', 'Kelly']\n",
    "\n",
    "def create_labeled_df(main_directory=\"datasets\"):\n",
    "        file_paths = []\n",
    "        target_variable = []\n",
    "\n",
    "        for directory in os.listdir(main_directory):\n",
    "            full_path = os.path.join(main_directory, directory)\n",
    "\n",
    "            if directory not in labels:\n",
    "                continue\n",
    "\n",
    "            for path in os.listdir(full_path):\n",
    "                image_path = os.path.join(full_path, path)\n",
    "                if os.path.isfile(image_path):\n",
    "                     target_variable.append(directory)\n",
    "                     file_paths.append(image_path)\n",
    "\n",
    "\n",
    "        df = pd.DataFrame({\n",
    "            \"Target\": target_variable,\n",
    "            \"Path\": file_paths\n",
    "        })\n",
    "\n",
    "        csv_filename = \"images_train.csv\"\n",
    "        df.to_csv(csv_filename, index=False)\n",
    "        return df\n"
   ]
  },
  {
   "cell_type": "code",
   "execution_count": 47,
   "metadata": {},
   "outputs": [],
   "source": [
    "labels = ['TestSet01', 'TestSet02']\n",
    "\n",
    "def create_test_df(main_directory=\"datasets\"):\n",
    "        file_paths = []\n",
    "\n",
    "        for directory in os.listdir(main_directory):\n",
    "            full_path = os.path.join(main_directory, directory)\n",
    "\n",
    "            if directory not in labels:\n",
    "                continue\n",
    "\n",
    "            for path in os.listdir(full_path):\n",
    "                image_path = os.path.join(full_path, path)\n",
    "                if os.path.isfile(image_path):\n",
    "                     file_paths.append(image_path)\n",
    "\n",
    "\n",
    "        df = pd.DataFrame({\n",
    "            \"Path\": file_paths\n",
    "        })\n",
    "\n",
    "        csv_filename = \"images_test.csv\"\n",
    "        df.to_csv(csv_filename, index=False)\n"
   ]
  },
  {
   "cell_type": "code",
   "execution_count": 48,
   "metadata": {},
   "outputs": [],
   "source": [
    "create_labeled_df()\n",
    "create_test_df()\n"
   ]
  },
  {
   "cell_type": "code",
   "execution_count": 49,
   "metadata": {},
   "outputs": [
    {
     "data": {
      "text/html": [
       "<div>\n",
       "<style scoped>\n",
       "    .dataframe tbody tr th:only-of-type {\n",
       "        vertical-align: middle;\n",
       "    }\n",
       "\n",
       "    .dataframe tbody tr th {\n",
       "        vertical-align: top;\n",
       "    }\n",
       "\n",
       "    .dataframe thead th {\n",
       "        text-align: right;\n",
       "    }\n",
       "</style>\n",
       "<table border=\"1\" class=\"dataframe\">\n",
       "  <thead>\n",
       "    <tr style=\"text-align: right;\">\n",
       "      <th></th>\n",
       "      <th>Target</th>\n",
       "      <th>Path</th>\n",
       "    </tr>\n",
       "  </thead>\n",
       "  <tbody>\n",
       "    <tr>\n",
       "      <th>0</th>\n",
       "      <td>Alex</td>\n",
       "      <td>datasets/Alex/Alex-Image119.png</td>\n",
       "    </tr>\n",
       "    <tr>\n",
       "      <th>1</th>\n",
       "      <td>Alex</td>\n",
       "      <td>datasets/Alex/Alex-Image131.png</td>\n",
       "    </tr>\n",
       "    <tr>\n",
       "      <th>2</th>\n",
       "      <td>Alex</td>\n",
       "      <td>datasets/Alex/Alex-Image125.png</td>\n",
       "    </tr>\n",
       "    <tr>\n",
       "      <th>3</th>\n",
       "      <td>Alex</td>\n",
       "      <td>datasets/Alex/Alex-Image247.png</td>\n",
       "    </tr>\n",
       "    <tr>\n",
       "      <th>4</th>\n",
       "      <td>Alex</td>\n",
       "      <td>datasets/Alex/Alex-Image27.png</td>\n",
       "    </tr>\n",
       "  </tbody>\n",
       "</table>\n",
       "</div>"
      ],
      "text/plain": [
       "  Target                             Path\n",
       "0   Alex  datasets/Alex/Alex-Image119.png\n",
       "1   Alex  datasets/Alex/Alex-Image131.png\n",
       "2   Alex  datasets/Alex/Alex-Image125.png\n",
       "3   Alex  datasets/Alex/Alex-Image247.png\n",
       "4   Alex   datasets/Alex/Alex-Image27.png"
      ]
     },
     "execution_count": 49,
     "metadata": {},
     "output_type": "execute_result"
    }
   ],
   "source": [
    "labels = ['Alex', 'Kelly']\n",
    "\n",
    "def create_labeled_df(main_directory=\"datasets\"):\n",
    "    file_paths = []\n",
    "    target_variable = []\n",
    "\n",
    "    for directory in os.listdir(main_directory):\n",
    "        full_path = os.path.join(main_directory, directory)\n",
    "\n",
    "        if directory not in labels:\n",
    "            # print(f\"Skipping directory: {directory}\")  # Debugging\n",
    "            continue\n",
    "\n",
    "        # print(f\"Processing directory: {directory}\")  # Debugging\n",
    "        for path in os.listdir(full_path):\n",
    "            image_path = os.path.join(full_path, path)\n",
    "            if os.path.isfile(image_path):\n",
    "                # print(f\"Adding file: {image_path}\")  # Debugging\n",
    "                target_variable.append(directory)\n",
    "                file_paths.append(image_path)\n",
    "\n",
    "    df = pd.DataFrame({\n",
    "        \"Target\": target_variable,\n",
    "        \"Path\": file_paths\n",
    "    })\n",
    "\n",
    "    csv_filename = \"labelled_images.csv\"\n",
    "    # print(f\"Saving CSV to: {csv_filename}\")  # Debugging\n",
    "    df.to_csv(csv_filename, index=False)\n",
    "    return df\n",
    "\n",
    "df = create_labeled_df() # call function\n",
    "df.head()\n"
   ]
  },
  {
   "cell_type": "code",
   "execution_count": 50,
   "metadata": {},
   "outputs": [],
   "source": [
    "labels = ['TestSet01', 'TestSet02']\n",
    "\n",
    "def create_test_df(main_directory=\"datasets\"):\n",
    "        file_paths = []\n",
    "\n",
    "        for directory in os.listdir(main_directory):\n",
    "            full_path = os.path.join(main_directory, directory)\n",
    "\n",
    "            if directory not in labels:\n",
    "                continue\n",
    "\n",
    "            for path in os.listdir(full_path):\n",
    "                image_path = os.path.join(full_path, path)\n",
    "                if os.path.isfile(image_path):\n",
    "                     file_paths.append(image_path)\n",
    "\n",
    "\n",
    "        df = pd.DataFrame({\n",
    "            \"Path\": file_paths\n",
    "        })\n",
    "\n",
    "        csv_filename = \"unlabelled_images.csv\"\n",
    "        df.to_csv(csv_filename, index=False)"
   ]
  }
 ],
 "metadata": {
  "kernelspec": {
   "display_name": "Python 3",
   "language": "python",
   "name": "python3"
  },
  "language_info": {
   "codemirror_mode": {
    "name": "ipython",
    "version": 3
   },
   "file_extension": ".py",
   "mimetype": "text/x-python",
   "name": "python",
   "nbconvert_exporter": "python",
   "pygments_lexer": "ipython3",
   "version": "3.12.2"
  }
 },
 "nbformat": 4,
 "nbformat_minor": 2
}
