{
 "cells": [
  {
   "cell_type": "markdown",
   "metadata": {},
   "source": [
    "# Data Preparation\n"
   ]
  },
  {
   "cell_type": "code",
   "execution_count": 1,
   "metadata": {},
   "outputs": [],
   "source": [
    "import os\n",
    "import pandas as pd"
   ]
  },
  {
   "cell_type": "code",
   "execution_count": null,
   "metadata": {},
   "outputs": [],
   "source": [
    "labels = ['Alex', 'Kelly']\n",
    "\n",
    "def create_labeled_df(main_directory=\"datasets\"):\n",
    "        file_paths = []\n",
    "        target_variable = []\n",
    "\n",
    "        for directory in os.listdir(main_directory):\n",
    "            full_path = os.path.join(main_directory, directory)\n",
    "\n",
    "            if directory not in labels:\n",
    "                continue\n",
    "\n",
    "            for path in os.listdir(full_path):\n",
    "                image_path = os.path.join(full_path, path)\n",
    "                if os.path.isfile(image_path):\n",
    "                     target_variable.append(directory)\n",
    "                     file_paths.append(image_path)\n",
    "\n",
    "\n",
    "        df = pd.DataFrame({\n",
    "            \"Target\": target_variable,\n",
    "            \"Path\": file_paths\n",
    "        })\n",
    "\n",
    "        csv_filename = \"images_train.csv\"\n",
    "        df.to_csv(csv_filename, index=False)\n",
    "        return\n"
   ]
  },
  {
   "cell_type": "code",
   "execution_count": 31,
   "metadata": {},
   "outputs": [],
   "source": [
    "labels = ['TestSet01', 'TestSet02']\n",
    "\n",
    "def create_test_df(main_directory=\"datasets\"):\n",
    "        file_paths = []\n",
    "\n",
    "        for directory in os.listdir(main_directory):\n",
    "            full_path = os.path.join(main_directory, directory)\n",
    "\n",
    "            if directory not in labels:\n",
    "                continue\n",
    "\n",
    "            for path in os.listdir(full_path):\n",
    "                image_path = os.path.join(full_path, path)\n",
    "                if os.path.isfile(image_path):\n",
    "                     file_paths.append(image_path)\n",
    "\n",
    "\n",
    "        df = pd.DataFrame({\n",
    "            \"Path\": file_paths\n",
    "        })\n",
    "\n",
    "        csv_filename = \"images_test.csv\"\n",
    "        df.to_csv(csv_filename, index=False)\n"
   ]
  },
  {
   "cell_type": "code",
   "execution_count": 32,
   "metadata": {},
   "outputs": [],
   "source": [
    "create_labeled_df()\n",
    "create_test_df()\n"
   ]
  },
  {
   "cell_type": "code",
   "execution_count": null,
   "metadata": {},
   "outputs": [],
   "source": []
  }
 ],
 "metadata": {
  "kernelspec": {
   "display_name": "Python 3",
   "language": "python",
   "name": "python3"
  },
  "language_info": {
   "codemirror_mode": {
    "name": "ipython",
    "version": 3
   },
   "file_extension": ".py",
   "mimetype": "text/x-python",
   "name": "python",
   "nbconvert_exporter": "python",
   "pygments_lexer": "ipython3",
   "version": "3.12.1"
  }
 },
 "nbformat": 4,
 "nbformat_minor": 2
}
