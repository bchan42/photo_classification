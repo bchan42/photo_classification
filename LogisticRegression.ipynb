{
 "cells": [
  {
   "cell_type": "markdown",
   "metadata": {
    "vscode": {
     "languageId": "plaintext"
    }
   },
   "source": [
    "# Logistic Regression\n",
    "## just seeing how well features dataset does"
   ]
  },
  {
   "cell_type": "code",
   "execution_count": 63,
   "metadata": {},
   "outputs": [],
   "source": [
    "import pandas as pd\n",
    "from sklearn.model_selection import train_test_split\n",
    "from sklearn.linear_model import LogisticRegression\n",
    "from sklearn.metrics import accuracy_score, classification_report"
   ]
  },
  {
   "cell_type": "code",
   "execution_count": 64,
   "metadata": {},
   "outputs": [],
   "source": [
    "features_df = pd.read_csv('images.csv')\n",
    "\n",
    "X = features_df.drop(columns=['Image_Name', 'Target'])\n",
    "y = features_df['Target']\n",
    "X_train, X_test, y_train, y_test = train_test_split(X, y, test_size=0.4, random_state=42, shuffle=True)"
   ]
  },
  {
   "cell_type": "code",
   "execution_count": 65,
   "metadata": {},
   "outputs": [
    {
     "name": "stdout",
     "output_type": "stream",
     "text": [
      "Accuracy: 0.9948453608247423\n",
      "Classification Report:\n",
      "               precision    recall  f1-score   support\n",
      "\n",
      "           0       1.00      0.99      1.00       107\n",
      "           1       0.99      1.00      0.99        87\n",
      "\n",
      "    accuracy                           0.99       194\n",
      "   macro avg       0.99      1.00      0.99       194\n",
      "weighted avg       0.99      0.99      0.99       194\n",
      "\n"
     ]
    }
   ],
   "source": [
    "model = LogisticRegression(max_iter=1000, C=0.1)  # Increase max_iter if the model struggles to converge\n",
    "model.fit(X_train, y_train)\n",
    "\n",
    "y_pred = model.predict(X_test)\n",
    "\n",
    "print(\"Accuracy:\", accuracy_score(y_test, y_pred))\n",
    "print(\"Classification Report:\\n\", classification_report(y_test, y_pred))"
   ]
  },
  {
   "cell_type": "code",
   "execution_count": 70,
   "metadata": {},
   "outputs": [
    {
     "data": {
      "text/plain": [
       "1.0"
      ]
     },
     "execution_count": 70,
     "metadata": {},
     "output_type": "execute_result"
    }
   ],
   "source": [
    "y_train_pred = model.predict(X_train)\n",
    "accuracy_score(y_train, y_train_pred) # high training error -> overfitting"
   ]
  },
  {
   "cell_type": "code",
   "execution_count": 66,
   "metadata": {},
   "outputs": [
    {
     "name": "stdout",
     "output_type": "stream",
     "text": [
      "[[106   1]\n",
      " [  0  87]]\n"
     ]
    }
   ],
   "source": [
    "from sklearn.metrics import confusion_matrix\n",
    "cm = confusion_matrix(y_test, y_pred)\n",
    "print(cm)\n"
   ]
  },
  {
   "cell_type": "code",
   "execution_count": 67,
   "metadata": {},
   "outputs": [
    {
     "name": "stdout",
     "output_type": "stream",
     "text": [
      "[0.44845361 0.4507772  0.453125   0.45549738 0.45789474 0.46031746\n",
      " 0.46276596 0.46524064 0.46774194 0.47027027 0.47282609 0.47540984\n",
      " 0.47802198 0.48066298 0.48333333 0.48603352 0.48876404 0.49152542\n",
      " 0.49431818 0.49714286 0.5        0.50289017 0.50581395 0.50877193\n",
      " 0.51176471 0.5147929  0.51785714 0.52095808 0.52409639 0.52727273\n",
      " 0.5304878  0.53374233 0.53703704 0.54037267 0.54375    0.54716981\n",
      " 0.55063291 0.55414013 0.55769231 0.56129032 0.56493506 0.56862745\n",
      " 0.57236842 0.57615894 0.58       0.58389262 0.58783784 0.59183673\n",
      " 0.59589041 0.6        0.60416667 0.60839161 0.61267606 0.61702128\n",
      " 0.62142857 0.62589928 0.63043478 0.6350365  0.63970588 0.64444444\n",
      " 0.64925373 0.65413534 0.65909091 0.66412214 0.66923077 0.6744186\n",
      " 0.6796875  0.68503937 0.69047619 0.696      0.7016129  0.70731707\n",
      " 0.71311475 0.71900826 0.725      0.73109244 0.73728814 0.74358974\n",
      " 0.75       0.75652174 0.76315789 0.7699115  0.77678571 0.78378378\n",
      " 0.79090909 0.79816514 0.80555556 0.81308411 0.82075472 0.82857143\n",
      " 0.83653846 0.84466019 0.85294118 0.86138614 0.87       0.87878788\n",
      " 0.8877551  0.89690722 0.90625    0.91578947 0.92553191 0.93548387\n",
      " 0.94565217 0.95604396 0.96666667 0.97752809 0.98863636 1.\n",
      " 1.         1.         1.         1.         1.         1.\n",
      " 1.         1.         1.         1.         1.         1.\n",
      " 1.         1.         1.         1.         1.         1.\n",
      " 1.         1.         1.         1.         1.         1.\n",
      " 1.        ] [1.         1.         1.         1.         1.         1.\n",
      " 1.         1.         1.         1.         1.         1.\n",
      " 1.         1.         1.         1.         1.         1.\n",
      " 1.         1.         1.         1.         1.         1.\n",
      " 1.         1.         1.         1.         1.         1.\n",
      " 1.         1.         1.         1.         1.         1.\n",
      " 1.         1.         1.         1.         1.         1.\n",
      " 1.         1.         1.         1.         1.         1.\n",
      " 1.         1.         1.         1.         1.         1.\n",
      " 1.         1.         1.         1.         1.         1.\n",
      " 1.         1.         1.         1.         1.         1.\n",
      " 1.         1.         1.         1.         1.         1.\n",
      " 1.         1.         1.         1.         1.         1.\n",
      " 1.         1.         1.         1.         1.         1.\n",
      " 1.         1.         1.         1.         1.         1.\n",
      " 1.         1.         1.         1.         1.         1.\n",
      " 1.         1.         1.         1.         1.         1.\n",
      " 1.         1.         1.         1.         1.         1.\n",
      " 0.98850575 0.97701149 0.96551724 0.95402299 0.94252874 0.93103448\n",
      " 0.91954023 0.90804598 0.89655172 0.88505747 0.87356322 0.86206897\n",
      " 0.85057471 0.83908046 0.82758621 0.81609195 0.8045977  0.79310345\n",
      " 0.7816092  0.77011494 0.75862069 0.74712644 0.73563218 0.72413793\n",
      " 0.        ] [1.21110810e-51 4.57864100e-51 1.30691190e-50 6.07544269e-50\n",
      " 7.70504885e-50 1.81659889e-49 9.77102131e-49 2.24573398e-48\n",
      " 3.21506740e-48 5.68247930e-48 9.01985379e-48 2.86882864e-47\n",
      " 4.26094489e-47 8.90826316e-47 1.48648055e-46 1.72797200e-46\n",
      " 6.59044480e-46 2.25188223e-45 2.75790648e-45 4.85475246e-45\n",
      " 3.56348564e-44 9.32338287e-44 2.50799674e-43 1.41383088e-42\n",
      " 1.92350495e-42 1.01276997e-40 1.83963810e-40 2.46509726e-40\n",
      " 9.59020920e-40 5.57950645e-39 3.11840206e-38 8.57432936e-38\n",
      " 1.03171924e-37 1.22692059e-37 3.54953334e-37 4.68279023e-37\n",
      " 9.18563623e-37 1.15012759e-36 1.40436730e-36 3.54199376e-36\n",
      " 4.69248113e-36 7.24448049e-36 2.24437308e-35 7.75962900e-35\n",
      " 9.14665517e-35 2.17744765e-34 1.24081618e-33 3.43365021e-33\n",
      " 9.10783953e-33 2.28098545e-31 6.32191318e-31 9.68805442e-30\n",
      " 1.01935447e-29 3.20652325e-29 4.40803095e-29 6.30073811e-29\n",
      " 2.26648114e-28 7.28858362e-28 9.39253580e-28 1.97305117e-26\n",
      " 2.81581637e-26 2.13854574e-25 3.30628035e-24 3.95423473e-24\n",
      " 1.35635813e-23 1.75163616e-23 7.42038815e-23 1.11762128e-22\n",
      " 5.44671367e-22 3.75757711e-21 7.15714953e-21 8.21657501e-21\n",
      " 1.33241177e-20 3.69812836e-20 1.12903774e-18 4.20150462e-18\n",
      " 5.33036171e-17 8.36362827e-17 1.19681081e-16 1.43113669e-16\n",
      " 1.17084703e-15 1.74248279e-15 2.43686945e-15 1.14186948e-14\n",
      " 3.72311970e-13 4.30367862e-13 9.15295303e-13 4.33615939e-11\n",
      " 9.09955113e-11 5.41570258e-10 8.67312496e-10 2.12896435e-09\n",
      " 5.45146637e-08 1.17407875e-07 3.50248523e-07 9.41407571e-07\n",
      " 5.26449563e-06 2.05215990e-05 6.78188282e-05 3.41079822e-04\n",
      " 5.28866707e-04 9.85533733e-03 3.54645614e-02 3.96213398e-02\n",
      " 1.01490748e-01 2.52267184e-01 5.55100293e-01 9.53845518e-01\n",
      " 9.70635018e-01 9.98266351e-01 9.99507979e-01 9.99696273e-01\n",
      " 9.99992850e-01 9.99999024e-01 9.99999762e-01 9.99999995e-01\n",
      " 9.99999998e-01 9.99999999e-01 1.00000000e+00 1.00000000e+00\n",
      " 1.00000000e+00 1.00000000e+00 1.00000000e+00 1.00000000e+00\n",
      " 1.00000000e+00 1.00000000e+00 1.00000000e+00 1.00000000e+00\n",
      " 1.00000000e+00 1.00000000e+00 1.00000000e+00 1.00000000e+00]\n"
     ]
    }
   ],
   "source": [
    "from sklearn.metrics import precision_recall_curve\n",
    "precision, recall, thresholds = precision_recall_curve(y_test, model.predict_proba(X_test)[:, 1])\n",
    "\n",
    "print(precision, recall, thresholds)"
   ]
  },
  {
   "cell_type": "code",
   "execution_count": 68,
   "metadata": {},
   "outputs": [
    {
     "name": "stdout",
     "output_type": "stream",
     "text": [
      "Stratified cross-validation scores: [1.         0.98969072 0.98969072 1.         1.        ]\n"
     ]
    }
   ],
   "source": [
    "from sklearn.model_selection import StratifiedKFold\n",
    "from sklearn.model_selection import cross_val_score\n",
    "\n",
    "stratified_kfold = StratifiedKFold(n_splits=5, shuffle=True, random_state=42)\n",
    "scores = cross_val_score(model, X, y, cv=stratified_kfold)\n",
    "print(\"Stratified cross-validation scores:\", scores)\n"
   ]
  }
 ],
 "metadata": {
  "kernelspec": {
   "display_name": "Python 3",
   "language": "python",
   "name": "python3"
  },
  "language_info": {
   "codemirror_mode": {
    "name": "ipython",
    "version": 3
   },
   "file_extension": ".py",
   "mimetype": "text/x-python",
   "name": "python",
   "nbconvert_exporter": "python",
   "pygments_lexer": "ipython3",
   "version": "3.12.2"
  }
 },
 "nbformat": 4,
 "nbformat_minor": 2
}
