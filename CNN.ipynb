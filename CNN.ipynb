{
 "cells": [
  {
   "cell_type": "code",
   "execution_count": 22,
   "metadata": {},
   "outputs": [],
   "source": [
    "# imports\n",
    "\n",
    "import pandas as pd\n",
    "import numpy as np\n",
    "from sklearn.model_selection import train_test_split\n",
    "# import tensorflow as tf"
   ]
  },
  {
   "cell_type": "markdown",
   "metadata": {},
   "source": [
    "# Splitting Up Data"
   ]
  },
  {
   "cell_type": "code",
   "execution_count": 23,
   "metadata": {},
   "outputs": [],
   "source": [
    "# images only\n",
    "\n",
    "labelled_image = pd.read_csv('labelled_images.csv')\n",
    "labelled_image['Target'] = labelled_image['Target'].map({'Alex': 0, 'Kelly': 1})\n",
    "\n",
    "X = labelled_image.drop(columns='Target')\n",
    "y = labelled_image['Target']\n",
    "\n",
    "X_train, X_test, y_train, y_test = train_test_split(X, y, test_size=0.2, random_state=42)"
   ]
  },
  {
   "cell_type": "code",
   "execution_count": 24,
   "metadata": {},
   "outputs": [],
   "source": [
    "# full data with features\n",
    "\n",
    "# images_df = pd.read_csv('images.csv')\n",
    "# images_df['Target'] = images_df['Target'].map({'Alex': 0, 'Kelly': 1})\n",
    "\n",
    "# X = images_df.drop(columns='Target')\n",
    "# y = images_df['Target']\n",
    "\n",
    "# X_train, X_test, y_train, y_test = train_test_split(X, y, test_size=0.2, random_state=42)\n"
   ]
  },
  {
   "cell_type": "markdown",
   "metadata": {},
   "source": [
    "# Convolutional Neural Network on Images Only"
   ]
  },
  {
   "cell_type": "code",
   "execution_count": 25,
   "metadata": {},
   "outputs": [],
   "source": [
    "# reduce image size?\n",
    "\n",
    "# import tensorflow as tf\n",
    "\n",
    "\n",
    "# def load_images_from_paths(paths, img_size=(128, 128)):\n",
    "#     images = []\n",
    "#     for path in paths:\n",
    "#         image = tf.io.read_file(path)\n",
    "#         image = tf.image.decode_png(image, channels=3)\n",
    "#         image = tf.image.resize(image, img_size)\n",
    "#         image = image / 255.0  # Normalize\n",
    "#         images.append(image.numpy())\n",
    "#     return tf.convert_to_tensor(images)\n",
    "\n",
    "# # Preprocess the train and test sets\n",
    "# X_train_images = load_images_from_paths(X_train['Path'])\n",
    "# X_test_images = load_images_from_paths(X_test['Path'])\n"
   ]
  },
  {
   "cell_type": "code",
   "execution_count": 26,
   "metadata": {},
   "outputs": [],
   "source": [
    "# from tensorflow.keras.models import Sequential\n",
    "# from tensorflow.keras.layers import Conv2D, MaxPooling2D, Flatten, Dense, Dropout\n",
    "\n",
    "# # TRAIN MODEL\n",
    "\n",
    "# # Define CNN model\n",
    "# model = Sequential([\n",
    "#     Conv2D(32, (3, 3), activation='relu', input_shape=(128, 128, 3)),\n",
    "#     MaxPooling2D(pool_size=(2, 2)),\n",
    "#     Dropout(0.2),\n",
    "#     Conv2D(64, (3, 3), activation='relu'),\n",
    "#     MaxPooling2D(pool_size=(2, 2)),\n",
    "#     Dropout(0.2),\n",
    "#     Flatten(),\n",
    "#     Dense(128, activation='relu'),\n",
    "#     Dropout(0.5),\n",
    "#     Dense(1, activation='sigmoid')  # Binary classification\n",
    "# ])\n",
    "\n",
    "# # compile model\n",
    "# model.compile(optimizer='adam', loss='binary_crossentropy', metrics=['accuracy'])\n",
    "\n",
    "# # train model\n",
    "# history = model.fit(\n",
    "#     X_train_images,\n",
    "#     y_train,\n",
    "#     validation_data=(X_test_images, y_test),\n",
    "#     epochs=10,\n",
    "#     batch_size=32,\n",
    "#     verbose=1\n",
    "# )"
   ]
  },
  {
   "cell_type": "code",
   "execution_count": 27,
   "metadata": {},
   "outputs": [],
   "source": [
    "# OR USE DATASET API\n",
    "\n",
    "# def load_data_from_csv(csv_path):\n",
    "#     df = pd.read_csv(csv_path)\n",
    "#     df['Target'] = df['Target'].map({'Alex': 0, 'Kelly': 1})\n",
    "#     return tf.data.Dataset.from_tensor_slices((df['Path'].values, df['Target'].values))\n",
    "\n",
    "# def preprocess_image(image_path, label, img_size=(128, 128)):\n",
    "#     image = tf.io.read_file(image_path)\n",
    "#     image = tf.image.decode_png(image, channels=3)\n",
    "#     image = tf.image.resize(image, img_size)\n",
    "#     image = image / 255.0\n",
    "#     return image, label\n",
    "\n",
    "# train_dataset = load_data_from_csv('labelled_images.csv').map(preprocess_image).batch(32)"
   ]
  }
 ],
 "metadata": {
  "kernelspec": {
   "display_name": "Python 3",
   "language": "python",
   "name": "python3"
  },
  "language_info": {
   "codemirror_mode": {
    "name": "ipython",
    "version": 3
   },
   "file_extension": ".py",
   "mimetype": "text/x-python",
   "name": "python",
   "nbconvert_exporter": "python",
   "pygments_lexer": "ipython3",
   "version": "3.12.2"
  }
 },
 "nbformat": 4,
 "nbformat_minor": 2
}
